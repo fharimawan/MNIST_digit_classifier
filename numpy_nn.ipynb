{
 "cells": [
  {
   "cell_type": "markdown",
   "metadata": {},
   "source": [
    "# <center>MNIST Handwritten Digit Recognizer</center>"
   ]
  },
  {
   "cell_type": "code",
   "execution_count": 1,
   "metadata": {},
   "outputs": [],
   "source": [
    "# Initial Imports\n",
    "from NeuralNetwork import NeuralNetwork\n",
    "import numpy as np\n",
    "import gzip\n",
    "import pickle\n",
    "from pathlib import Path"
   ]
  },
  {
   "cell_type": "markdown",
   "metadata": {},
   "source": [
    "Define function to load data:"
   ]
  },
  {
   "cell_type": "code",
   "execution_count": 2,
   "metadata": {},
   "outputs": [],
   "source": [
    "def load_mnist():\n",
    "    with gzip.open('mnist.pkl.gz', 'rb') as f:\n",
    "        training_data, validation_data, test_data = pickle.load(f, encoding='latin1')\n",
    "    return training_data, validation_data, test_data"
   ]
  },
  {
   "cell_type": "markdown",
   "metadata": {},
   "source": [
    "Let's see what the data looks like"
   ]
  },
  {
   "cell_type": "code",
   "execution_count": 3,
   "metadata": {
    "scrolled": false
   },
   "outputs": [
    {
     "name": "stdout",
     "output_type": "stream",
     "text": [
      "num training data points: 50000\n",
      "num test data points:     10000\n",
      "data shape:               (784,)\n",
      "\n",
      "training data\n",
      " (array([[0., 0., 0., ..., 0., 0., 0.],\n",
      "       [0., 0., 0., ..., 0., 0., 0.],\n",
      "       [0., 0., 0., ..., 0., 0., 0.],\n",
      "       ...,\n",
      "       [0., 0., 0., ..., 0., 0., 0.],\n",
      "       [0., 0., 0., ..., 0., 0., 0.],\n",
      "       [0., 0., 0., ..., 0., 0., 0.]], dtype=float32), array([5, 0, 4, ..., 8, 4, 8]))\n",
      "\n",
      "test data\n",
      " (array([[0., 0., 0., ..., 0., 0., 0.],\n",
      "       [0., 0., 0., ..., 0., 0., 0.],\n",
      "       [0., 0., 0., ..., 0., 0., 0.],\n",
      "       ...,\n",
      "       [0., 0., 0., ..., 0., 0., 0.],\n",
      "       [0., 0., 0., ..., 0., 0., 0.],\n",
      "       [0., 0., 0., ..., 0., 0., 0.]], dtype=float32), array([7, 2, 1, ..., 4, 5, 6]))\n"
     ]
    }
   ],
   "source": [
    "training_data, valid_data, test_data = load_mnist()\n",
    "print('num training data points:', len(training_data[0]))\n",
    "print('num test data points:    ', len(test_data[0]))\n",
    "print('data shape:              ', training_data[0][0].shape)\n",
    "print()\n",
    "print('training data\\n',training_data)\n",
    "print()\n",
    "print('test data\\n',test_data)"
   ]
  },
  {
   "cell_type": "markdown",
   "metadata": {},
   "source": [
    "Put the data into a form usable by the learner"
   ]
  },
  {
   "cell_type": "code",
   "execution_count": 4,
   "metadata": {},
   "outputs": [],
   "source": [
    "def label_to_col_vector(y):\n",
    "    v = np.zeros((10, 1))\n",
    "    v[y] = 1.\n",
    "    return v"
   ]
  },
  {
   "cell_type": "code",
   "execution_count": 5,
   "metadata": {},
   "outputs": [],
   "source": [
    "tr_data = [(np.reshape(x, (784, 1)), label_to_col_vector(y)) \\\n",
    "           for x, y in zip(training_data[0], training_data[1])]\n",
    "\n",
    "te_data = [(np.reshape(x, (784, 1)), y) for x, y in zip(test_data[0], test_data[1])]"
   ]
  },
  {
   "cell_type": "markdown",
   "metadata": {},
   "source": [
    "Train neural network (or unpickle it if we have one saved) and evaluate it on test data after each epoch: \n",
    "  \n",
    "  epochs = 30  \n",
    "  batch-size = 10  \n",
    "  eta = 3.0  "
   ]
  },
  {
   "cell_type": "code",
   "execution_count": 6,
   "metadata": {},
   "outputs": [
    {
     "name": "stdout",
     "output_type": "stream",
     "text": [
      "unpickling nn...\n"
     ]
    }
   ],
   "source": [
    "if not Path('nn.pkl').exists():\n",
    "    nn = NeuralNetwork([784, 30, 10])\n",
    "    print('training...')\n",
    "    nn.train(tr_data, 30, 10, 3.0, test_data=te_data)\n",
    "    with open('nn.pkl', 'wb') as f:\n",
    "        pickle.dump(nn, f)\n",
    "else:\n",
    "    print('unpickling nn...')\n",
    "    with open('nn.pkl', 'rb') as f:\n",
    "        nn = pickle.load(f)"
   ]
  },
  {
   "cell_type": "markdown",
   "metadata": {},
   "source": [
    "94% accuracy!  \n",
    "Try tweaking the hyper parameters to see if we can get a better result."
   ]
  },
  {
   "cell_type": "code",
   "execution_count": 8,
   "metadata": {},
   "outputs": [
    {
     "name": "stdout",
     "output_type": "stream",
     "text": [
      "Epoch 1: 9085 / 10000\n",
      "   cost: 0.8042\n",
      "Epoch 2: 9272 / 10000\n",
      "   cost: 0.6059\n",
      "Epoch 3: 9295 / 10000\n",
      "   cost: 0.62595\n",
      "Epoch 4: 9393 / 10000\n",
      "   cost: 0.57875\n",
      "Epoch 5: 9349 / 10000\n",
      "   cost: 0.58885\n",
      "Epoch 6: 9408 / 10000\n",
      "   cost: 0.54795\n",
      "Epoch 7: 9435 / 10000\n",
      "   cost: 0.50705\n",
      "Epoch 8: 9436 / 10000\n",
      "   cost: 0.5167\n",
      "Epoch 9: 9459 / 10000\n",
      "   cost: 0.4924\n",
      "Epoch 10: 9462 / 10000\n",
      "   cost: 0.51335\n",
      "Epoch 11: 9450 / 10000\n",
      "   cost: 0.52455\n",
      "Epoch 12: 9483 / 10000\n",
      "   cost: 0.4747\n",
      "Epoch 13: 9466 / 10000\n",
      "   cost: 0.492\n",
      "Epoch 14: 9510 / 10000\n",
      "   cost: 0.4529\n",
      "Epoch 15: 9507 / 10000\n",
      "   cost: 0.44825\n",
      "Epoch 16: 9440 / 10000\n",
      "   cost: 0.5033\n",
      "Epoch 17: 9468 / 10000\n",
      "   cost: 0.50845\n",
      "Epoch 18: 9487 / 10000\n",
      "   cost: 0.44165\n",
      "Epoch 19: 9493 / 10000\n",
      "   cost: 0.4666\n",
      "Epoch 20: 9509 / 10000\n",
      "   cost: 0.41415\n",
      "Epoch 21: 9489 / 10000\n",
      "   cost: 0.4593\n",
      "Epoch 22: 9500 / 10000\n",
      "   cost: 0.4377\n",
      "Epoch 23: 9484 / 10000\n",
      "   cost: 0.479\n",
      "Epoch 24: 9496 / 10000\n",
      "   cost: 0.47395\n",
      "Epoch 25: 9495 / 10000\n",
      "   cost: 0.4359\n",
      "Epoch 26: 9504 / 10000\n",
      "   cost: 0.4454\n",
      "Epoch 27: 9507 / 10000\n",
      "   cost: 0.4269\n",
      "Epoch 28: 9498 / 10000\n",
      "   cost: 0.46765\n",
      "Epoch 29: 9456 / 10000\n",
      "   cost: 0.4556\n",
      "Epoch 30: 9493 / 10000\n",
      "   cost: 0.4682\n",
      "Epoch 31: 9475 / 10000\n",
      "   cost: 0.49365\n",
      "Epoch 32: 9494 / 10000\n",
      "   cost: 0.432\n",
      "Epoch 33: 9507 / 10000\n",
      "   cost: 0.4277\n",
      "Epoch 34: 9493 / 10000\n",
      "   cost: 0.4601\n",
      "Epoch 35: 9485 / 10000\n",
      "   cost: 0.4856\n",
      "Epoch 36: 9505 / 10000\n",
      "   cost: 0.43855\n",
      "Epoch 37: 9506 / 10000\n",
      "   cost: 0.4398\n",
      "Epoch 38: 9501 / 10000\n",
      "   cost: 0.45175\n",
      "Epoch 39: 9501 / 10000\n",
      "   cost: 0.41745\n",
      "Epoch 40: 9509 / 10000\n",
      "   cost: 0.43205\n",
      "Epoch 41: 9509 / 10000\n",
      "   cost: 0.4154\n",
      "Epoch 42: 9486 / 10000\n",
      "   cost: 0.45215\n",
      "Epoch 43: 9501 / 10000\n",
      "   cost: 0.4149\n",
      "Epoch 44: 9527 / 10000\n",
      "   cost: 0.41625\n",
      "Epoch 45: 9513 / 10000\n",
      "   cost: 0.4401\n",
      "Epoch 46: 9489 / 10000\n",
      "   cost: 0.453\n",
      "Epoch 47: 9496 / 10000\n",
      "   cost: 0.4489\n",
      "Epoch 48: 9523 / 10000\n",
      "   cost: 0.41135\n",
      "Epoch 49: 9519 / 10000\n",
      "   cost: 0.42635\n",
      "Epoch 50: 9513 / 10000\n",
      "   cost: 0.4212\n"
     ]
    },
    {
     "ename": "TypeError",
     "evalue": "unsupported operand type(s) for /: 'NoneType' and 'int'",
     "output_type": "error",
     "traceback": [
      "\u001b[0;31m---------------------------------------------------------------------------\u001b[0m",
      "\u001b[0;31mTypeError\u001b[0m                                 Traceback (most recent call last)",
      "\u001b[0;32m<ipython-input-8-3f857d181856>\u001b[0m in \u001b[0;36m<module>\u001b[0;34m\u001b[0m\n\u001b[1;32m      1\u001b[0m \u001b[0mnn2\u001b[0m \u001b[0;34m=\u001b[0m \u001b[0mNeuralNetwork\u001b[0m\u001b[0;34m(\u001b[0m\u001b[0;34m[\u001b[0m\u001b[0;36m784\u001b[0m\u001b[0;34m,\u001b[0m \u001b[0;36m30\u001b[0m\u001b[0;34m,\u001b[0m \u001b[0;36m10\u001b[0m\u001b[0;34m]\u001b[0m\u001b[0;34m)\u001b[0m\u001b[0;34m\u001b[0m\u001b[0;34m\u001b[0m\u001b[0m\n\u001b[1;32m      2\u001b[0m \u001b[0mnn2\u001b[0m\u001b[0;34m.\u001b[0m\u001b[0mtrain\u001b[0m\u001b[0;34m(\u001b[0m\u001b[0mtr_data\u001b[0m\u001b[0;34m,\u001b[0m \u001b[0;36m50\u001b[0m\u001b[0;34m,\u001b[0m \u001b[0;36m10\u001b[0m\u001b[0;34m,\u001b[0m \u001b[0;36m3.0\u001b[0m\u001b[0;34m,\u001b[0m \u001b[0mtest_data\u001b[0m\u001b[0;34m=\u001b[0m\u001b[0mte_data\u001b[0m\u001b[0;34m,\u001b[0m \u001b[0mwith_cost\u001b[0m\u001b[0;34m=\u001b[0m\u001b[0;32mTrue\u001b[0m\u001b[0;34m)\u001b[0m\u001b[0;34m\u001b[0m\u001b[0;34m\u001b[0m\u001b[0m\n\u001b[0;32m----> 3\u001b[0;31m \u001b[0mprint\u001b[0m\u001b[0;34m(\u001b[0m\u001b[0;34mf'{nn2.evaluate(te_data)} / 10000'\u001b[0m\u001b[0;34m)\u001b[0m\u001b[0;34m\u001b[0m\u001b[0;34m\u001b[0m\u001b[0m\n\u001b[0m",
      "\u001b[0;32m~/projects/number_image_classifier/NeuralNetwork.py\u001b[0m in \u001b[0;36mevaluate\u001b[0;34m(self, test_data, with_cost)\u001b[0m\n\u001b[1;32m     83\u001b[0m             \u001b[0;32mfor\u001b[0m \u001b[0myhat\u001b[0m\u001b[0;34m,\u001b[0m \u001b[0my\u001b[0m \u001b[0;32min\u001b[0m \u001b[0mres\u001b[0m\u001b[0;34m:\u001b[0m\u001b[0;34m\u001b[0m\u001b[0;34m\u001b[0m\u001b[0m\n\u001b[1;32m     84\u001b[0m                 \u001b[0mcost\u001b[0m \u001b[0;34m+=\u001b[0m \u001b[0;34m(\u001b[0m\u001b[0my\u001b[0m \u001b[0;34m-\u001b[0m \u001b[0myhat\u001b[0m\u001b[0;34m)\u001b[0m\u001b[0;34m**\u001b[0m\u001b[0;36m2\u001b[0m\u001b[0;34m\u001b[0m\u001b[0;34m\u001b[0m\u001b[0m\n\u001b[0;32m---> 85\u001b[0;31m         \u001b[0;32mreturn\u001b[0m \u001b[0msum\u001b[0m\u001b[0;34m(\u001b[0m\u001b[0mint\u001b[0m\u001b[0;34m(\u001b[0m\u001b[0mx\u001b[0m \u001b[0;34m==\u001b[0m \u001b[0my\u001b[0m\u001b[0;34m)\u001b[0m \u001b[0;32mfor\u001b[0m \u001b[0;34m(\u001b[0m\u001b[0mx\u001b[0m\u001b[0;34m,\u001b[0m \u001b[0my\u001b[0m\u001b[0;34m)\u001b[0m \u001b[0;32min\u001b[0m \u001b[0mres\u001b[0m\u001b[0;34m)\u001b[0m\u001b[0;34m,\u001b[0m \u001b[0mcost\u001b[0m \u001b[0;34m/\u001b[0m \u001b[0;34m(\u001b[0m\u001b[0;36m2\u001b[0m\u001b[0;34m*\u001b[0m\u001b[0mlen\u001b[0m\u001b[0;34m(\u001b[0m\u001b[0mtest_data\u001b[0m\u001b[0;34m)\u001b[0m\u001b[0;34m)\u001b[0m\u001b[0;34m\u001b[0m\u001b[0;34m\u001b[0m\u001b[0m\n\u001b[0m\u001b[1;32m     86\u001b[0m \u001b[0;34m\u001b[0m\u001b[0m\n\u001b[1;32m     87\u001b[0m     \u001b[0;32mdef\u001b[0m \u001b[0mpredict\u001b[0m\u001b[0;34m(\u001b[0m\u001b[0mself\u001b[0m\u001b[0;34m,\u001b[0m \u001b[0mxs\u001b[0m\u001b[0;34m)\u001b[0m\u001b[0;34m:\u001b[0m\u001b[0;34m\u001b[0m\u001b[0;34m\u001b[0m\u001b[0m\n",
      "\u001b[0;31mTypeError\u001b[0m: unsupported operand type(s) for /: 'NoneType' and 'int'"
     ]
    }
   ],
   "source": [
    "nn2 = NeuralNetwork([784, 30, 10])\n",
    "nn2.train(tr_data, 50, 10, 3.0, test_data=te_data, with_cost=True)"
   ]
  },
  {
   "cell_type": "markdown",
   "metadata": {},
   "source": [
    "Increasing training epochs only yielded a small increase in predicting on test data.  "
   ]
  },
  {
   "cell_type": "markdown",
   "metadata": {},
   "source": [
    "Try increasing copmlexity of model by adding another hidden layer as well as more neurons"
   ]
  },
  {
   "cell_type": "code",
   "execution_count": null,
   "metadata": {},
   "outputs": [],
   "source": [
    "if not Path('nn_complex.pkl').exists():\n",
    "    nn = NeuralNetwork([784, 128, 64, 10])\n",
    "    print('training...')\n",
    "    nn.train(tr_data, 30, 10, 3.0, test_data=te_data)\n",
    "    with open('nn_complex.pkl', 'wb') as f:\n",
    "        pickle.dump(nn, f)\n",
    "else:\n",
    "    print('unpickling nn...')\n",
    "    with open('nn_complex.pkl', 'rb') as f:\n",
    "        nn = pickle.load(f)"
   ]
  }
 ],
 "metadata": {
  "kernelspec": {
   "display_name": "Python 3",
   "language": "python",
   "name": "python3"
  },
  "language_info": {
   "codemirror_mode": {
    "name": "ipython",
    "version": 3
   },
   "file_extension": ".py",
   "mimetype": "text/x-python",
   "name": "python",
   "nbconvert_exporter": "python",
   "pygments_lexer": "ipython3",
   "version": "3.8.3"
  }
 },
 "nbformat": 4,
 "nbformat_minor": 4
}
